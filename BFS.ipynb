{
 "cells": [
  {
   "cell_type": "code",
   "execution_count": 1,
   "id": "fbdf4b4c",
   "metadata": {},
   "outputs": [
    {
     "name": "stdout",
     "output_type": "stream",
     "text": [
      "Finding path from 'S' to 'G' using BFS:\n",
      "Path from 'S' to 'G': ['S', 'B', 'E', 'G']\n"
     ]
    }
   ],
   "source": [
    "from collections import deque\n",
    "\n",
    "class Graph:\n",
    "    def __init__(self):\n",
    "        self.graph = {}\n",
    "\n",
    "    def add_edge(self, u, v):\n",
    "        if u not in self.graph:\n",
    "            self.graph[u] = []\n",
    "        self.graph[u].append(v)\n",
    "\n",
    "    def bfs(self, start, target):\n",
    "        visited = set()\n",
    "        queue = deque([(start, [start])])  # Each element in the queue is a tuple (node, path)\n",
    "\n",
    "        while queue:\n",
    "            node, path = queue.popleft()\n",
    "            visited.add(node)\n",
    "\n",
    "            if node == target:\n",
    "                print(\"Path from 'S' to 'G':\", path)\n",
    "                return\n",
    "\n",
    "            for neighbor in self.graph.get(node, []):\n",
    "                if neighbor not in visited:\n",
    "                    queue.append((neighbor, path + [neighbor]))\n",
    "\n",
    "        print(\"No path from 'S' to 'G' exists.\")\n",
    "\n",
    "\n",
    "# Test case\n",
    "def test_bfs():\n",
    "    g = Graph()\n",
    "    g.add_edge('S', 'B')\n",
    "    g.add_edge('S', 'C')\n",
    "    g.add_edge('B', 'D')\n",
    "    g.add_edge('B', 'E')\n",
    "    g.add_edge('D', 'H')\n",
    "    g.add_edge('E', 'G')\n",
    "    g.add_edge('E', 'I')\n",
    "    g.add_edge('C', 'F')\n",
    "    g.add_edge('F', 'J')\n",
    "\n",
    "    print(\"Finding path from 'S' to 'G' using BFS:\")\n",
    "    g.bfs('S', 'G')\n",
    "\n",
    "\n",
    "if __name__ == \"__main__\":\n",
    "    test_bfs()\n"
   ]
  },
  {
   "cell_type": "code",
   "execution_count": null,
   "id": "6045858a",
   "metadata": {},
   "outputs": [],
   "source": []
  }
 ],
 "metadata": {
  "kernelspec": {
   "display_name": "Python 3 (ipykernel)",
   "language": "python",
   "name": "python3"
  },
  "language_info": {
   "codemirror_mode": {
    "name": "ipython",
    "version": 3
   },
   "file_extension": ".py",
   "mimetype": "text/x-python",
   "name": "python",
   "nbconvert_exporter": "python",
   "pygments_lexer": "ipython3",
   "version": "3.9.12"
  }
 },
 "nbformat": 4,
 "nbformat_minor": 5
}
