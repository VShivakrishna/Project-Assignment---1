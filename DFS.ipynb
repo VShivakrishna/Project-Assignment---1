{
 "cells": [
  {
   "cell_type": "code",
   "execution_count": 1,
   "id": "1f937247",
   "metadata": {},
   "outputs": [
    {
     "name": "stdout",
     "output_type": "stream",
     "text": [
      "Finding path from 'S' to 'G' using DFS:\n",
      "Path from 'S' to 'G': ['S', 'B', 'E', 'G']\n"
     ]
    }
   ],
   "source": [
    "class Graph:\n",
    "    def __init__(self):\n",
    "        self.graph = {}\n",
    "\n",
    "    def add_edge(self, u, v):\n",
    "        if u not in self.graph:\n",
    "            self.graph[u] = []\n",
    "        self.graph[u].append(v)\n",
    "\n",
    "    def dfs_util(self, v, target, visited, path):\n",
    "        visited.add(v)\n",
    "        path.append(v)\n",
    "\n",
    "        if v == target:\n",
    "            print(\"Path from 'S' to 'G':\", path)\n",
    "            return True\n",
    "\n",
    "        for neighbor in self.graph.get(v, []):\n",
    "            if neighbor not in visited:\n",
    "                if self.dfs_util(neighbor, target, visited, path):\n",
    "                    return True\n",
    "\n",
    "        path.pop()  # backtrack if the target is not found in the current path\n",
    "        return False\n",
    "\n",
    "    def dfs(self, start, target):\n",
    "        visited = set()\n",
    "        path = []\n",
    "        self.dfs_util(start, target, visited, path)\n",
    "\n",
    "\n",
    "# Test case\n",
    "def test_dfs():\n",
    "    g = Graph()\n",
    "    g.add_edge('S', 'B')\n",
    "    g.add_edge('S', 'C')\n",
    "    g.add_edge('B', 'D')\n",
    "    g.add_edge('B', 'E')\n",
    "    g.add_edge('D', 'H')\n",
    "    g.add_edge('E', 'G')\n",
    "    g.add_edge('E', 'I')\n",
    "    g.add_edge('C', 'F')\n",
    "    g.add_edge('F', 'J')\n",
    "\n",
    "    print(\"Finding path from 'S' to 'G' using DFS:\")\n",
    "    g.dfs('S', 'G')\n",
    "\n",
    "\n",
    "if __name__ == \"__main__\":\n",
    "    test_dfs()\n"
   ]
  },
  {
   "cell_type": "code",
   "execution_count": null,
   "id": "7edf04a1",
   "metadata": {},
   "outputs": [],
   "source": []
  }
 ],
 "metadata": {
  "kernelspec": {
   "display_name": "Python 3 (ipykernel)",
   "language": "python",
   "name": "python3"
  },
  "language_info": {
   "codemirror_mode": {
    "name": "ipython",
    "version": 3
   },
   "file_extension": ".py",
   "mimetype": "text/x-python",
   "name": "python",
   "nbconvert_exporter": "python",
   "pygments_lexer": "ipython3",
   "version": "3.9.12"
  }
 },
 "nbformat": 4,
 "nbformat_minor": 5
}
